{
 "cells": [
  {
   "cell_type": "markdown",
   "metadata": {},
   "source": [
    "# Катастрофа \"Титаника\": машинное обучение в деле"
   ]
  },
  {
   "cell_type": "markdown",
   "metadata": {},
   "source": [
    "## Постановка задачи"
   ]
  },
  {
   "cell_type": "markdown",
   "metadata": {},
   "source": [
    "Крушение парохода «Титаник» — морская катастрофа, произошедшая в ночь с 14 на 15 апреля 1912 года в северной части Атлантического океана. Трагедия случилась под конец пятого дня следования «Титаника» по трансатлантическому маршруту Саутгемптон—Нью-Йорк. Самый большой на тот момент океанский лайнер с 2224 людьми на борту по касательной столкнулся с айсбергом и получил серьёзные повреждения обшивки корпуса. Спустя 2 часа 40 минут \"Титаник\" полностью ушёл под воду. Катастрофа унесла жизни 1502  человек.  \n",
    "\n",
    "В данном [соревновании](https://www.kaggle.com/c/titanic) нам предлагается исследовать данные людей, находящихся на борту судна, и определить, какие пассажиры подвергались меньшей опасности и выжили в результате катастрофы. Несомненно, в этом был элемент удачи, однако некоторые категории пассажиров, например, женщины, дети, пассажиры люкс-класса имели большие шансы остаться в живых."
   ]
  },
  {
   "cell_type": "markdown",
   "metadata": {},
   "source": [
    "Перед нами классическая задача бинарной классификации, где каждому пассажиру соответствует целевая переменная, принимающая два возможных значения: \n",
    "- 1, если пассажир выжил в катастрофе; \n",
    "- 0, в противоположенном случае."
   ]
  },
  {
   "cell_type": "markdown",
   "metadata": {},
   "source": [
    "## Данные"
   ]
  },
  {
   "cell_type": "markdown",
   "metadata": {},
   "source": [
    "Данные для анализа представлены в виде csv файла, со следующей информацией:"
   ]
  },
  {
   "cell_type": "markdown",
   "metadata": {},
   "source": [
    "Признак | Пояснение | Значения | Тип данных\n",
    "---|---|---|---\n",
    "Survival|Целевая переменная каждого пассажира|0 = не выжил, 1 = выжил | Целое число\n",
    "PassengerId | Уникальный номер пассажира в датасете |- | Целое число\n",
    "Pclass|Класс обслуживания пассажира |1 = первый, 2 = второй, 3 = третий | Целое число\n",
    "Name | Имя пассажира | -| Строка\n",
    "Sex|Пол пассажира | male = мужской, female = женский| Строка\n",
    "Age|Возраст пассажира, лет |- |Вещественное число\n",
    "SibSp| Число сиблингов/супругов на борту | - |Целое число\n",
    "Parch|Число родителей/детей на борту | - |Целое число\n",
    "Ticket|Номер билета| - | Строка\n",
    "Fare|Цена билета| - | Вещественное число\n",
    "Cabin|Номер каюты| - | Строка\n",
    "Embarked|Порт посадки на судно|C = Шербур, Q = Куинстаун, S = Саутгемптон | Строка"
   ]
  },
  {
   "cell_type": "markdown",
   "metadata": {},
   "source": [
    "Приступим к анализу этих данных."
   ]
  },
  {
   "cell_type": "code",
   "execution_count": 1,
   "metadata": {},
   "outputs": [],
   "source": [
    "# загрузка библиотек\n",
    "import numpy as np\n",
    "import pandas as pd\n",
    "\n",
    "import seaborn as sns\n",
    "import matplotlib\n",
    "from matplotlib import pyplot as plt\n",
    "\n",
    "from sklearn import preprocessing, model_selection, metrics\n",
    "from sklearn import svm, tree, linear_model, neighbors, naive_bayes, ensemble, discriminant_analysis\n",
    "\n",
    "import warnings\n",
    "warnings.filterwarnings('ignore')"
   ]
  },
  {
   "cell_type": "code",
   "execution_count": 2,
   "metadata": {},
   "outputs": [],
   "source": [
    "%matplotlib inline"
   ]
  },
  {
   "cell_type": "markdown",
   "metadata": {},
   "source": [
    "### Предварительная обработка данных"
   ]
  },
  {
   "cell_type": "markdown",
   "metadata": {},
   "source": [
    "Для экономии времени не будем подробно описывать полный процесс предварительного исследования и обработки этих данных. Остановимся лишь на принципиально важных моментах:\n",
    "0. Исключаем из анализа признаки, которые либо слабо коррелируют с выживанием, либо не поддаются анализу, либо имеют много пустых значений:\n",
    "  * PassengerId - порядоковый номер пассажира в списке;\n",
    "  * Name - имя пассажира;\n",
    "  * Ticket - номер билета;\n",
    "  * Fare - стоимость билета определяют факторы, не связанные с катастрофой;\n",
    "  * Cabin - номер каюты указан лишь для 23% пассажиров;\n",
    "  * Embarked - порт посадки на судно.\n",
    "1. Значимые признаки в датасете:\n",
    "  * вещественные (Age, SibSp, Parch);\n",
    "  * бинарные (Survival, Sex);\n",
    "  * категориальные-порядковые (Pclass).\n",
    "2. Отсутствующие значения Age заполняем средним возрастом по датасету.\n",
    "3. Бинарный признак Sex кодируем 0 и 1.\n",
    "4. Добавляем признак, определяющий количество родственников на борту, _Family = SibSp + Parch_."
   ]
  },
  {
   "cell_type": "code",
   "execution_count": 3,
   "metadata": {},
   "outputs": [],
   "source": [
    "def preprocessing_data(name):\n",
    "    #загрузка датасета\n",
    "    df = pd.read_csv(name)\n",
    "    \n",
    "    #заполнение пропущенных значений возраста средним значением\n",
    "    df['Age'].fillna(df['Age'].mean(), inplace=True)\n",
    "    \n",
    "    #обработка бинарных признаков: замена вещественными значениями\n",
    "    df['Sex'].replace(to_replace=['male', 'female'], value=[0., 1.], inplace=True)\n",
    "    \n",
    "    #добавление признака 'Family' = 'SibSp'+'Parch'\n",
    "    df['Family'] = df['SibSp'] + df['Parch']\n",
    "    \n",
    "    #исключаем иррелевантные признаки\n",
    "    #PassengerId не нужен в обучающем датасете, но потребуется в тестовом, оставляем его\n",
    "    df.drop(['Name', 'Ticket', 'Fare', 'Cabin', 'Embarked'], axis=1, inplace=True)\n",
    "    \n",
    "    return df"
   ]
  },
  {
   "cell_type": "code",
   "execution_count": 4,
   "metadata": {},
   "outputs": [
    {
     "data": {
      "text/html": [
       "<div>\n",
       "<style scoped>\n",
       "    .dataframe tbody tr th:only-of-type {\n",
       "        vertical-align: middle;\n",
       "    }\n",
       "\n",
       "    .dataframe tbody tr th {\n",
       "        vertical-align: top;\n",
       "    }\n",
       "\n",
       "    .dataframe thead th {\n",
       "        text-align: right;\n",
       "    }\n",
       "</style>\n",
       "<table border=\"1\" class=\"dataframe\">\n",
       "  <thead>\n",
       "    <tr style=\"text-align: right;\">\n",
       "      <th></th>\n",
       "      <th>PassengerId</th>\n",
       "      <th>Survived</th>\n",
       "      <th>Pclass</th>\n",
       "      <th>Sex</th>\n",
       "      <th>Age</th>\n",
       "      <th>SibSp</th>\n",
       "      <th>Parch</th>\n",
       "      <th>Family</th>\n",
       "    </tr>\n",
       "  </thead>\n",
       "  <tbody>\n",
       "    <tr>\n",
       "      <th>0</th>\n",
       "      <td>1</td>\n",
       "      <td>0</td>\n",
       "      <td>3</td>\n",
       "      <td>0.0</td>\n",
       "      <td>22.0</td>\n",
       "      <td>1</td>\n",
       "      <td>0</td>\n",
       "      <td>1</td>\n",
       "    </tr>\n",
       "    <tr>\n",
       "      <th>1</th>\n",
       "      <td>2</td>\n",
       "      <td>1</td>\n",
       "      <td>1</td>\n",
       "      <td>1.0</td>\n",
       "      <td>38.0</td>\n",
       "      <td>1</td>\n",
       "      <td>0</td>\n",
       "      <td>1</td>\n",
       "    </tr>\n",
       "    <tr>\n",
       "      <th>2</th>\n",
       "      <td>3</td>\n",
       "      <td>1</td>\n",
       "      <td>3</td>\n",
       "      <td>1.0</td>\n",
       "      <td>26.0</td>\n",
       "      <td>0</td>\n",
       "      <td>0</td>\n",
       "      <td>0</td>\n",
       "    </tr>\n",
       "    <tr>\n",
       "      <th>3</th>\n",
       "      <td>4</td>\n",
       "      <td>1</td>\n",
       "      <td>1</td>\n",
       "      <td>1.0</td>\n",
       "      <td>35.0</td>\n",
       "      <td>1</td>\n",
       "      <td>0</td>\n",
       "      <td>1</td>\n",
       "    </tr>\n",
       "    <tr>\n",
       "      <th>4</th>\n",
       "      <td>5</td>\n",
       "      <td>0</td>\n",
       "      <td>3</td>\n",
       "      <td>0.0</td>\n",
       "      <td>35.0</td>\n",
       "      <td>0</td>\n",
       "      <td>0</td>\n",
       "      <td>0</td>\n",
       "    </tr>\n",
       "  </tbody>\n",
       "</table>\n",
       "</div>"
      ],
      "text/plain": [
       "   PassengerId  Survived  Pclass  Sex   Age  SibSp  Parch  Family\n",
       "0            1         0       3  0.0  22.0      1      0       1\n",
       "1            2         1       1  1.0  38.0      1      0       1\n",
       "2            3         1       3  1.0  26.0      0      0       0\n",
       "3            4         1       1  1.0  35.0      1      0       1\n",
       "4            5         0       3  0.0  35.0      0      0       0"
      ]
     },
     "execution_count": 4,
     "metadata": {},
     "output_type": "execute_result"
    }
   ],
   "source": [
    "df_train = preprocessing_data('train.csv')\n",
    "df_train.head()"
   ]
  },
  {
   "cell_type": "markdown",
   "metadata": {},
   "source": [
    "Убедимся, что предобработка прошла успешно."
   ]
  },
  {
   "cell_type": "code",
   "execution_count": 5,
   "metadata": {},
   "outputs": [
    {
     "name": "stdout",
     "output_type": "stream",
     "text": [
      "<class 'pandas.core.frame.DataFrame'>\n",
      "RangeIndex: 891 entries, 0 to 890\n",
      "Data columns (total 8 columns):\n",
      "PassengerId    891 non-null int64\n",
      "Survived       891 non-null int64\n",
      "Pclass         891 non-null int64\n",
      "Sex            891 non-null float64\n",
      "Age            891 non-null float64\n",
      "SibSp          891 non-null int64\n",
      "Parch          891 non-null int64\n",
      "Family         891 non-null int64\n",
      "dtypes: float64(2), int64(6)\n",
      "memory usage: 55.7 KB\n"
     ]
    }
   ],
   "source": [
    "df_train.info()"
   ]
  },
  {
   "cell_type": "markdown",
   "metadata": {},
   "source": [
    "### Визуализация данных"
   ]
  },
  {
   "cell_type": "markdown",
   "metadata": {},
   "source": [
    "Прежде чем приступать к анализу, посмотрим на распределение различных признаков в графической форме."
   ]
  },
  {
   "cell_type": "code",
   "execution_count": 6,
   "metadata": {},
   "outputs": [],
   "source": [
    "#создание набора общих графиков\n",
    "def create_axes(sbp, data, tlt, ylbl, xtcks):\n",
    "    ax = fig.add_subplot(1, 4, sbp)\n",
    "    data.plot(kind='bar', ax=ax, width=.5, color='tab:blue', align='center')\n",
    "    ax.grid(axis='y')\n",
    "    ax.set_title(tlt)\n",
    "    ax.set_ylim(0,1)\n",
    "    ax.set_ylabel(ylbl)\n",
    "    ax.tick_params(axis='x', labelrotation=0)\n",
    "    ax.set_xticklabels(labels=xtcks)"
   ]
  },
  {
   "cell_type": "code",
   "execution_count": 7,
   "metadata": {},
   "outputs": [
    {
     "data": {
      "image/png": "[encoded data removed]",
      "text/plain": [
       "<Figure size 1440x360 with 4 Axes>"
      ]
     },
     "metadata": {
      "needs_background": "light"
     },
     "output_type": "display_data"
    }
   ],
   "source": [
    "fig = plt.figure(figsize=(20,5), frameon=True)\n",
    "\n",
    "#результат плавания\n",
    "data = df_train['Survived'].value_counts()\n",
    "create_axes(1, data/df_train.shape[0], 'Распределение целевой переменной', 'Доля пассажиров', ['Не выжил', 'Выжил'])\n",
    "\n",
    "#распределение полов\n",
    "data = df_train['Sex'].value_counts()\n",
    "create_axes(2, data/df_train.shape[0], 'Распределение полов', '', ['Мужчины', 'Женщины'])\n",
    "\n",
    "#распределение классов\n",
    "data = df_train['Pclass'].value_counts()\n",
    "create_axes(3, data/df_train.shape[0], 'Распределение классов', '', ['3-класс', '1-класс', '2-класс'])\n",
    "\n",
    "#количество родственников на борту\n",
    "data = df_train['Family'].value_counts()\n",
    "create_axes(4, data/df_train.shape[0], 'Размер семьи на борту', '', ['0', '1', '2', '3', '5', '4', '6', '10', '7'])"
   ]
  },
  {
   "cell_type": "markdown",
   "metadata": {},
   "source": [
    "### Поиск корреляций и отбор признаков"
   ]
  },
  {
   "cell_type": "markdown",
   "metadata": {},
   "source": [
    "Посмотрим на взаимосвязи между признаками и целевой переменной."
   ]
  },
  {
   "cell_type": "code",
   "execution_count": 8,
   "metadata": {},
   "outputs": [
    {
     "data": {
      "text/plain": [
       "Pclass   -0.338481\n",
       "Age      -0.069809\n",
       "SibSp    -0.035322\n",
       "Family    0.016639\n",
       "Parch     0.081629\n",
       "Sex       0.543351\n",
       "dtype: float64"
      ]
     },
     "execution_count": 8,
     "metadata": {},
     "output_type": "execute_result"
    }
   ],
   "source": [
    "df_train.iloc[:,2:].corrwith(df_train['Survived']).sort_values()"
   ]
  },
  {
   "cell_type": "markdown",
   "metadata": {},
   "source": [
    "Максимальные по модулю корреляции: Sex, Pclass. Средние по модулю корреляции: Parch, Age. Минимальные по модулю корреляции: SibSp, Family."
   ]
  },
  {
   "cell_type": "markdown",
   "metadata": {},
   "source": [
    "Контринтуитивно, возраст не так сильно коррелирует с вероятностью уцелеть, как например, пол пассажира. Для того, чтобы убедиться в существовании данных взаимосвязей, давайте визуализируем эти зависимости."
   ]
  },
  {
   "cell_type": "markdown",
   "metadata": {},
   "source": [
    "**Исход в зависимости от класса и пола пассажира**"
   ]
  },
  {
   "cell_type": "code",
   "execution_count": 9,
   "metadata": {},
   "outputs": [],
   "source": [
    "#создание набора графиков\n",
    "def create_axes_class_sex(sbp, data1, data0, tlt, ylbl):\n",
    "    ax = fig.add_subplot(1, 3, sbp)\n",
    "    data1.plot.bar(color='tab:green', ax=ax, width=.1, align='edge')\n",
    "    data0.plot.bar(color='tab:gray' , ax=ax, width=-.1, align='edge')\n",
    "    ax.grid(axis='y')\n",
    "    ax.set_title(tlt)\n",
    "    ax.set_ylim(0,1)\n",
    "    ax.set_ylabel(ylbl)\n",
    "    ax.set_xlabel('')\n",
    "    ax.tick_params(axis='x', labelrotation=0)\n",
    "    ax.set_xticklabels(labels=['1-класс', '2-класс', '3-класс'])\n",
    "    ax.legend(['Survived', 'Not survived'])"
   ]
  },
  {
   "cell_type": "code",
   "execution_count": 10,
   "metadata": {},
   "outputs": [
    {
     "data": {
      "image/png": "[encoded data removed]",
      "text/plain": [
       "<Figure size 1296x360 with 3 Axes>"
      ]
     },
     "metadata": {
      "needs_background": "light"
     },
     "output_type": "display_data"
    }
   ],
   "source": [
    "#выделение требуемых признаков\n",
    "df = df_train[['Pclass','Survived', 'Sex']]\n",
    "\n",
    "#коэффициенты нормировки\n",
    "norma_g = df.groupby('Pclass').count()\n",
    "norma_m = df[df['Sex']==0].groupby('Pclass').count()\n",
    "norma_f = df[df['Sex']==1].groupby('Pclass').count()\n",
    "\n",
    "fig = plt.figure(figsize=(18,5))\n",
    "\n",
    "#связь между классом и результатом\n",
    "data1 = df[df['Survived']==1].groupby('Pclass').count()/norma_g\n",
    "data0 = df[df['Survived']==0].groupby('Pclass').count()/norma_g\n",
    "create_axes_class_sex(1, data1, data0, 'Суммарно', 'Доля пассажиров')\n",
    "\n",
    "data1 = df[(df['Survived']==1)&(df['Sex']==0)].groupby('Pclass').count()/norma_m\n",
    "data0 = df[(df['Survived']==0)&(df['Sex']==0)].groupby('Pclass').count()/norma_m\n",
    "create_axes_class_sex(2, data1, data0, 'Мужчины', 'Доля мужчин')\n",
    "\n",
    "data1 = df[(df['Survived']==1)&(df['Sex']==1)].groupby('Pclass').count()/norma_f\n",
    "data0 = df[(df['Survived']==0)&(df['Sex']==1)].groupby('Pclass').count()/norma_f\n",
    "create_axes_class_sex(3, data1, data0, 'Женщины', 'Доля женщин')"
   ]
  },
  {
   "cell_type": "markdown",
   "metadata": {},
   "source": [
    "Для всех пассажиров, независимо от пола, доля выживших существенно снижается по мере увеличения цифры класса. Другими словами, существует сильная корреляция между классом и полом пассажира и благополучным исходом."
   ]
  },
  {
   "cell_type": "markdown",
   "metadata": {},
   "source": [
    "**Исход в зависимости от возраста**"
   ]
  },
  {
   "cell_type": "markdown",
   "metadata": {},
   "source": [
    "Сначала посмотрим на общее распределение возрастов пассажиров с помощью гистограммы и оценим шансы на выживание в зависимости от возрастной группы пассажира, разделиим их на 20 категорий: от 0 до 80 лет."
   ]
  },
  {
   "cell_type": "code",
   "execution_count": 11,
   "metadata": {},
   "outputs": [],
   "source": [
    "df_train['AgeBand'] = pd.cut(df_train['Age'], range(0,81,4))"
   ]
  },
  {
   "cell_type": "code",
   "execution_count": 12,
   "metadata": {},
   "outputs": [],
   "source": [
    "#выделение требуемых признаков\n",
    "df = df_train[['Age', 'AgeBand', 'Survived', 'Sex']]"
   ]
  },
  {
   "cell_type": "code",
   "execution_count": 13,
   "metadata": {},
   "outputs": [],
   "source": [
    "#создание набора гистограмм\n",
    "def create_axes_hist_age(sbp, data, tlt):\n",
    "    bins = np.linspace(0, 80, 20)\n",
    "    ax = fig.add_subplot(1,3,sbp)\n",
    "    data.plot(kind='hist', ec='k', bins=bins, ax=ax)\n",
    "    ax.grid(axis='y')\n",
    "    ax.set_title(tlt)\n",
    "    ax.set_ylim(0, 270)\n",
    "    ax.set_ylabel('Пассажиры')\n",
    "    ax.set_xlabel('Возраст, лет')"
   ]
  },
  {
   "cell_type": "code",
   "execution_count": 14,
   "metadata": {},
   "outputs": [],
   "source": [
    "#создание набора графиков\n",
    "def create_axes_age(sbp, data, tlt, ylbl):\n",
    "    ax = fig.add_subplot(1, 3, sbp)\n",
    "    data.plot.bar(color='tab:green', ax=ax, width=.5, align='center')\n",
    "    ax.grid(axis='y')\n",
    "    ax.set_title(tlt)\n",
    "    ax.set_ylim(0,1)\n",
    "    ax.set_xlim(-0.7,19.7)\n",
    "    ax.set_ylabel(ylbl)\n",
    "    ax.set_xlabel('Возрастные группы')\n",
    "    ax.tick_params(axis='x', labelrotation=0)\n",
    "    formatter = matplotlib.ticker.FormatStrFormatter('%.0f')\n",
    "    ax.xaxis.set_major_formatter(formatter)\n",
    "    ax.legend(loc='upper left')"
   ]
  },
  {
   "cell_type": "code",
   "execution_count": 15,
   "metadata": {},
   "outputs": [
    {
     "data": {
      "image/png": "[encoded data removed]",
      "text/plain": [
       "<Figure size 1296x360 with 3 Axes>"
      ]
     },
     "metadata": {
      "needs_background": "light"
     },
     "output_type": "display_data"
    },
    {
     "data": {
      "image/png": "[encoded data removed]",
      "text/plain": [
       "<Figure size 1296x360 with 3 Axes>"
      ]
     },
     "metadata": {
      "needs_background": "light"
     },
     "output_type": "display_data"
    }
   ],
   "source": [
    "fig = plt.figure(figsize=(18,5))\n",
    "\n",
    "data = df['Age']\n",
    "create_axes_hist_age(1, data, 'Распределение возрастов')\n",
    "\n",
    "data = df['Age'][df['Sex']==0]\n",
    "create_axes_hist_age(2, data, 'Мужчины')\n",
    "\n",
    "data = df['Age'][df['Sex']==1]\n",
    "create_axes_hist_age(3, data, 'Женщины')\n",
    "\n",
    "fig = plt.figure(figsize=(18,5))\n",
    "\n",
    "group = df[['AgeBand', 'Survived']].groupby(['AgeBand'],as_index=False).mean().sort_values(by='AgeBand',ascending=True)\n",
    "create_axes_age(1, group, 'Вместе', 'Доля пассажиров')\n",
    "\n",
    "group = df[['AgeBand', 'Survived']][df['Sex']==0].groupby(['AgeBand'], as_index=False).mean().sort_values(by='AgeBand',ascending=True)\n",
    "create_axes_age(2, group, 'Мужчины', 'Доля мужчин')\n",
    "\n",
    "group = df[['AgeBand', 'Survived']][df['Sex']==1].groupby(['AgeBand'], as_index=False).mean().sort_values(by='AgeBand',ascending=True)\n",
    "create_axes_age(3, group, 'Женщины', 'Доля женщин')\n",
    "\n",
    "#расшифровка категорий\n",
    "a = ['   {0} - {1}\\n'.format(i,x) for i,x in enumerate(df['AgeBand'].unique().categories)]\n",
    "plt.annotate('  Возрастные\\n  категории:\\n'+''.join(a), xy=(19.5,1), va='top')\n",
    "plt.show()"
   ]
  },
  {
   "cell_type": "markdown",
   "metadata": {},
   "source": [
    "Если убрать из рассмотрения крайние выбросы первой и последней возрастной категории (0-4 и 76-80 лет), умеренная зависимость между возрастом и шансами на выживание присутствует."
   ]
  },
  {
   "cell_type": "markdown",
   "metadata": {},
   "source": [
    "**Зависимость от размера семьи на борту**"
   ]
  },
  {
   "cell_type": "markdown",
   "metadata": {},
   "source": [
    "Проанализируем шансы на выживание в зависимости от количества родственников на борту. Можно предварительно предположить, что пассажиры, путешествующие в одиночестве, имеют больший шанс на спасение. Давайте визуализируем долю выживших пассажиров в зависимости от размера семьи на борту."
   ]
  },
  {
   "cell_type": "code",
   "execution_count": 16,
   "metadata": {},
   "outputs": [],
   "source": [
    "df = df_train[['Family','Survived', 'Sex']]"
   ]
  },
  {
   "cell_type": "code",
   "execution_count": 17,
   "metadata": {},
   "outputs": [],
   "source": [
    "#создание набора графиков\n",
    "def create_axes_family(sbp, data1, data0, tlt, ylbl):\n",
    "    ax = fig.add_subplot(1, 3, sbp)\n",
    "    data1.sort_values(by=['Family'], inplace=True)\n",
    "    data0.sort_values(by=['Family'], inplace=True)\n",
    "    data1.plot.bar(color='tab:green', ax=ax, width=.3, align='edge')\n",
    "    data0.plot.bar(color='tab:gray' , ax=ax, width=-.3, align='edge')\n",
    "    ax.grid(axis='y')\n",
    "    ax.set_title(tlt)\n",
    "    ax.set_ylim(0,1)\n",
    "    ax.set_ylabel(ylbl)\n",
    "    ax.set_xlabel('# of relatives')\n",
    "    ax.tick_params(axis='x', labelrotation=0)\n",
    "    ax.legend(['Survived', 'Not survived'])"
   ]
  },
  {
   "cell_type": "code",
   "execution_count": 18,
   "metadata": {},
   "outputs": [
    {
     "data": {
      "image/png": "[encoded data removed]",
      "text/plain": [
       "<Figure size 1296x360 with 3 Axes>"
      ]
     },
     "metadata": {
      "needs_background": "light"
     },
     "output_type": "display_data"
    }
   ],
   "source": [
    "fig = plt.figure(figsize=(18,5))\n",
    "\n",
    "#коэффициенты нормировки\n",
    "norma_g = df.groupby('Family').count()\n",
    "norma_m = df[df['Sex']==0].groupby('Family').count()\n",
    "norma_f = df[df['Sex']==1].groupby('Family').count()\n",
    "\n",
    "#связь между 'Family' и результатом\n",
    "data1 = df[df['Survived']==1].groupby('Family').count()/norma_g\n",
    "data0 = df[df['Survived']==0].groupby('Family').count()/norma_g\n",
    "create_axes_family(1, data1, data0, 'Суммарно', 'Доля пассажиров')\n",
    "\n",
    "data1 = df[(df['Survived']==1)&(df['Sex']==0)].groupby('Family').count()/norma_m\n",
    "data0 = df[(df['Survived']==0)&(df['Sex']==0)].groupby('Family').count()/norma_m\n",
    "create_axes_family(2, data1, data0, 'Мужчины', 'Доля мужчин')\n",
    "\n",
    "data1 = df[(df['Survived']==1)&(df['Sex']==1)].groupby('Family').count()/norma_f\n",
    "data0 = df[(df['Survived']==0)&(df['Sex']==1)].groupby('Family').count()/norma_f\n",
    "create_axes_family(3, data1, data0, 'Женщины', 'Доля женщин')"
   ]
  },
  {
   "cell_type": "markdown",
   "metadata": {},
   "source": [
    "В первых 4 группах шансы на выживание линейно растут.  \n",
    "Интересная особенность:  \n",
    "- Для мужчин с количеством родственников на борту 4, 5, 7, 10 шансы выжить стремятся к нулю.  \n",
    "- Для женщин относительно безопасно в первых 4 группах и фатально попадание в группу 7 и 10"
   ]
  },
  {
   "cell_type": "markdown",
   "metadata": {},
   "source": [
    "Наше первоначальное предположение не подтвердилось, люди путешествующие в одиночестве не имеют преимуществ. Дополнительно мы выявили новую сложную взаимосвязь в виде неких \"крайне неудачных\" значений параметра Family. Не пытаясь объяснить природу этой взаимосвязи, давайте попробуем оценить ее кореляцию с результатом и проверить, стоит ли учитывать ее при обучении модели. Для этого создадим бинарный признак 'Unlucky' по следующему принципу: для всех пассажиров с количеством родственников 7 и 10 он будет равен 1, таким же он будет для мужчин с количеством родственников 4 и 5, во всех остальных случаях - 0."
   ]
  },
  {
   "cell_type": "code",
   "execution_count": 19,
   "metadata": {},
   "outputs": [],
   "source": [
    "df_train['Unlucky'] = 0\n",
    "df_train['Unlucky'][(df_train['Family']==7) | (df_train['Family']==10)] = 1\n",
    "df_train['Unlucky'][(df_train['Sex']==0) & ((df_train['Family']==4)|(df_train['Family']==5))] = 1"
   ]
  },
  {
   "cell_type": "markdown",
   "metadata": {},
   "source": [
    "Проверим корреляцию целевого параметра с новым признаком:"
   ]
  },
  {
   "cell_type": "code",
   "execution_count": 20,
   "metadata": {},
   "outputs": [
    {
     "data": {
      "text/plain": [
       "-0.14732821682521155"
      ]
     },
     "execution_count": 20,
     "metadata": {},
     "output_type": "execute_result"
    }
   ],
   "source": [
    "df_train.loc[:, 'Unlucky'].corr(df_train['Survived'])"
   ]
  },
  {
   "cell_type": "markdown",
   "metadata": {},
   "source": [
    "Видим явную отрицательную зависимость, включаем этот параметр в обучение."
   ]
  },
  {
   "cell_type": "markdown",
   "metadata": {},
   "source": [
    "**По результатам анализа для обучения модели мы выбираем следующие признаки: Age, Sex, Pclass, SibSp, Parch, Unlucky.**"
   ]
  },
  {
   "cell_type": "code",
   "execution_count": 21,
   "metadata": {},
   "outputs": [],
   "source": [
    "X_train = df_train[['Age', 'Sex', 'Pclass', 'Unlucky', 'SibSp', 'Parch']]\n",
    "y_train = df_train['Survived']"
   ]
  },
  {
   "cell_type": "markdown",
   "metadata": {},
   "source": [
    "### Обучение дефолтных моделей и выбор лучшей"
   ]
  },
  {
   "cell_type": "markdown",
   "metadata": {},
   "source": [
    "Прежде чем обучать модели, давайте разберемся, какие значения точности окажутся приемлимыми в данной задаче. Для этого воспользуемся концепцией _константной_ модели.  \n",
    "Константная модель - это алгоритм предсказывающий одно и то же постоянное значение (например, 0) для всех объектов выборки. Как воспользоваться такой моделью? Из постановки задачи следует, что доля выживших пассажиров составила 100-1502/2224 = 32%. Тогда без дополнительных усилий можно сгенирировать константное предсказание, состоящее из одних 0 (никто не выжил) и гарантированно получить точность близкую к 100-32 = 68%. Логично предположить, что эффективно обученная модель должна иметь точность **> 68%**."
   ]
  },
  {
   "cell_type": "markdown",
   "metadata": {},
   "source": [
    "Составим список моделей с пераметрами по умолчанию."
   ]
  },
  {
   "cell_type": "code",
   "execution_count": 22,
   "metadata": {},
   "outputs": [],
   "source": [
    "models = [\n",
    "    #Ensemble Methods\n",
    "    ensemble.AdaBoostClassifier(n_estimators=100),\n",
    "    ensemble.BaggingClassifier(n_estimators=100),\n",
    "    ensemble.ExtraTreesClassifier(n_estimators=100),\n",
    "    ensemble.GradientBoostingClassifier(n_estimators=100),\n",
    "    ensemble.RandomForestClassifier(n_estimators=100),\n",
    "    \n",
    "    #GLM\n",
    "    linear_model.LogisticRegressionCV(),\n",
    "    linear_model.PassiveAggressiveClassifier(max_iter=1000),\n",
    "    linear_model.RidgeClassifierCV(),\n",
    "    linear_model.SGDClassifier(),\n",
    "    linear_model.Perceptron(),\n",
    "    \n",
    "    #Navies Bayes\n",
    "    naive_bayes.BernoulliNB(),\n",
    "    naive_bayes.GaussianNB(),\n",
    "    \n",
    "    #Nearest Neighbor\n",
    "    neighbors.KNeighborsClassifier(),\n",
    "    \n",
    "    #SVM\n",
    "    svm.SVC(probability=True),\n",
    "    svm.NuSVC(probability=True),\n",
    "    svm.LinearSVC(),\n",
    "    \n",
    "    #Trees    \n",
    "    tree.DecisionTreeClassifier(),\n",
    "    tree.ExtraTreeClassifier(),\n",
    "    \n",
    "    #Discriminant Analysis\n",
    "    discriminant_analysis.LinearDiscriminantAnalysis(),\n",
    "    discriminant_analysis.QuadraticDiscriminantAnalysis()\n",
    "]"
   ]
  },
  {
   "cell_type": "markdown",
   "metadata": {},
   "source": [
    "Для оценки качества моделей мы воспользуемся стандартной метрикой, определяющей точность по кросс-валидации (на 10 фолдов) с оценкой результата по контрольной выборке, не включенной в обучение и валидацию. Разобъем обучающую выборку в пропорции 60% обучение, 30% валидация, 10% контроль.  \n",
    "Создадим сводную таблицу, в которую запишем характеристики каждой проверяемой модели:\n",
    "- Model Name - название модели;  \n",
    "- Train Accuracy Mean - усредненный показатель точности на кросс-валидации;  \n",
    "- Test Accuracy Mean -  усредненный показатель точности на контрольной выборке;\n",
    "- Test Accuracy 3*STD - три-сигма диапазон показателя точности на контрольной выборке;\n",
    "- Time - время, затраченное на вычисления;\n",
    "- Parameters - параметры дефолтной модели.  \n",
    "\n",
    "\n",
    "И в конце, отсортируем таблицу по убыванию точности на контроле."
   ]
  },
  {
   "cell_type": "code",
   "execution_count": 23,
   "metadata": {},
   "outputs": [],
   "source": [
    "def get_model_compare_table(n=10):\n",
    "    m_columns = ['Model Name', 'Train Accuracy Mean', 'Test Accuracy Mean', 'Test Accuracy 3*STD' , 'Time']\n",
    "    table = pd.DataFrame(columns=m_columns) #пустая таблица моделей\n",
    "    cv_split = model_selection.ShuffleSplit(n_splits=n, test_size =.3, train_size =.6, random_state=4) #разбиение выборки 60:30:10\n",
    "    for i, model in enumerate(models):\n",
    "        table.loc[i, 'Model Name'] = model.__class__.__name__\n",
    "        table.loc[i, 'Parameters'] = str(model.get_params())\n",
    "        cv_results = model_selection.cross_validate(model, X_train, y_train, cv=cv_split, return_train_score=True)\n",
    "        table.loc[i, 'Time'] = cv_results['fit_time'].mean()\n",
    "        table.loc[i, 'Train Accuracy Mean'] = cv_results['train_score'].mean()\n",
    "        table.loc[i, 'Test Accuracy Mean'] = cv_results['test_score'].mean()\n",
    "        table.loc[i, 'Test Accuracy 3*STD'] = cv_results['test_score'].std() * 3\n",
    "    table.sort_values(by=['Test Accuracy Mean'], ascending=False, inplace=True)\n",
    "    return table"
   ]
  },
  {
   "cell_type": "code",
   "execution_count": 24,
   "metadata": {},
   "outputs": [
    {
     "data": {
      "text/html": [
       "<div>\n",
       "<style scoped>\n",
       "    .dataframe tbody tr th:only-of-type {\n",
       "        vertical-align: middle;\n",
       "    }\n",
       "\n",
       "    .dataframe tbody tr th {\n",
       "        vertical-align: top;\n",
       "    }\n",
       "\n",
       "    .dataframe thead th {\n",
       "        text-align: right;\n",
       "    }\n",
       "</style>\n",
       "<table border=\"1\" class=\"dataframe\">\n",
       "  <thead>\n",
       "    <tr style=\"text-align: right;\">\n",
       "      <th></th>\n",
       "      <th>Model Name</th>\n",
       "      <th>Train Accuracy Mean</th>\n",
       "      <th>Test Accuracy Mean</th>\n",
       "      <th>Test Accuracy 3*STD</th>\n",
       "      <th>Time</th>\n",
       "      <th>Parameters</th>\n",
       "    </tr>\n",
       "  </thead>\n",
       "  <tbody>\n",
       "    <tr>\n",
       "      <th>3</th>\n",
       "      <td>GradientBoostingClassifier</td>\n",
       "      <td>0.88764</td>\n",
       "      <td>0.807463</td>\n",
       "      <td>0.0586379</td>\n",
       "      <td>0.0539748</td>\n",
       "      <td>{'criterion': 'friedman_mse', 'init': None, 'l...</td>\n",
       "    </tr>\n",
       "    <tr>\n",
       "      <th>0</th>\n",
       "      <td>AdaBoostClassifier</td>\n",
       "      <td>0.8397</td>\n",
       "      <td>0.803358</td>\n",
       "      <td>0.0662342</td>\n",
       "      <td>0.0923625</td>\n",
       "      <td>{'algorithm': 'SAMME.R', 'base_estimator': Non...</td>\n",
       "    </tr>\n",
       "    <tr>\n",
       "      <th>14</th>\n",
       "      <td>NuSVC</td>\n",
       "      <td>0.873783</td>\n",
       "      <td>0.800373</td>\n",
       "      <td>0.0799805</td>\n",
       "      <td>0.0744641</td>\n",
       "      <td>{'cache_size': 200, 'class_weight': None, 'coe...</td>\n",
       "    </tr>\n",
       "    <tr>\n",
       "      <th>4</th>\n",
       "      <td>RandomForestClassifier</td>\n",
       "      <td>0.930337</td>\n",
       "      <td>0.800373</td>\n",
       "      <td>0.0625765</td>\n",
       "      <td>0.0818335</td>\n",
       "      <td>{'bootstrap': True, 'class_weight': None, 'cri...</td>\n",
       "    </tr>\n",
       "    <tr>\n",
       "      <th>1</th>\n",
       "      <td>BaggingClassifier</td>\n",
       "      <td>0.930337</td>\n",
       "      <td>0.797015</td>\n",
       "      <td>0.056682</td>\n",
       "      <td>0.0962348</td>\n",
       "      <td>{'base_estimator': None, 'bootstrap': True, 'b...</td>\n",
       "    </tr>\n",
       "    <tr>\n",
       "      <th>13</th>\n",
       "      <td>SVC</td>\n",
       "      <td>0.868165</td>\n",
       "      <td>0.795896</td>\n",
       "      <td>0.0744298</td>\n",
       "      <td>0.0640581</td>\n",
       "      <td>{'C': 1.0, 'cache_size': 200, 'class_weight': ...</td>\n",
       "    </tr>\n",
       "    <tr>\n",
       "      <th>10</th>\n",
       "      <td>BernoulliNB</td>\n",
       "      <td>0.792509</td>\n",
       "      <td>0.795149</td>\n",
       "      <td>0.0845798</td>\n",
       "      <td>0.00156233</td>\n",
       "      <td>{'alpha': 1.0, 'binarize': 0.0, 'class_prior':...</td>\n",
       "    </tr>\n",
       "    <tr>\n",
       "      <th>7</th>\n",
       "      <td>RidgeClassifierCV</td>\n",
       "      <td>0.801498</td>\n",
       "      <td>0.79291</td>\n",
       "      <td>0.0785578</td>\n",
       "      <td>0.00289831</td>\n",
       "      <td>{'alphas': array([ 0.1,  1. , 10. ]), 'class_w...</td>\n",
       "    </tr>\n",
       "    <tr>\n",
       "      <th>18</th>\n",
       "      <td>LinearDiscriminantAnalysis</td>\n",
       "      <td>0.801498</td>\n",
       "      <td>0.79291</td>\n",
       "      <td>0.0785578</td>\n",
       "      <td>0.0025991</td>\n",
       "      <td>{'n_components': None, 'priors': None, 'shrink...</td>\n",
       "    </tr>\n",
       "    <tr>\n",
       "      <th>2</th>\n",
       "      <td>ExtraTreesClassifier</td>\n",
       "      <td>0.930337</td>\n",
       "      <td>0.791418</td>\n",
       "      <td>0.0582627</td>\n",
       "      <td>0.0782195</td>\n",
       "      <td>{'bootstrap': False, 'class_weight': None, 'cr...</td>\n",
       "    </tr>\n",
       "    <tr>\n",
       "      <th>16</th>\n",
       "      <td>DecisionTreeClassifier</td>\n",
       "      <td>0.930337</td>\n",
       "      <td>0.78694</td>\n",
       "      <td>0.0722774</td>\n",
       "      <td>0.00180137</td>\n",
       "      <td>{'class_weight': None, 'criterion': 'gini', 'm...</td>\n",
       "    </tr>\n",
       "    <tr>\n",
       "      <th>5</th>\n",
       "      <td>LogisticRegressionCV</td>\n",
       "      <td>0.805618</td>\n",
       "      <td>0.786194</td>\n",
       "      <td>0.0770764</td>\n",
       "      <td>0.154694</td>\n",
       "      <td>{'Cs': 10, 'class_weight': None, 'cv': 'warn',...</td>\n",
       "    </tr>\n",
       "    <tr>\n",
       "      <th>17</th>\n",
       "      <td>ExtraTreeClassifier</td>\n",
       "      <td>0.930337</td>\n",
       "      <td>0.785448</td>\n",
       "      <td>0.0480822</td>\n",
       "      <td>0.00189869</td>\n",
       "      <td>{'class_weight': None, 'criterion': 'gini', 'm...</td>\n",
       "    </tr>\n",
       "    <tr>\n",
       "      <th>15</th>\n",
       "      <td>LinearSVC</td>\n",
       "      <td>0.781086</td>\n",
       "      <td>0.78097</td>\n",
       "      <td>0.0917706</td>\n",
       "      <td>0.0277699</td>\n",
       "      <td>{'C': 1.0, 'class_weight': None, 'dual': True,...</td>\n",
       "    </tr>\n",
       "    <tr>\n",
       "      <th>12</th>\n",
       "      <td>KNeighborsClassifier</td>\n",
       "      <td>0.846816</td>\n",
       "      <td>0.755224</td>\n",
       "      <td>0.0645382</td>\n",
       "      <td>0.00156233</td>\n",
       "      <td>{'algorithm': 'auto', 'leaf_size': 30, 'metric...</td>\n",
       "    </tr>\n",
       "    <tr>\n",
       "      <th>8</th>\n",
       "      <td>SGDClassifier</td>\n",
       "      <td>0.639326</td>\n",
       "      <td>0.636194</td>\n",
       "      <td>0.433059</td>\n",
       "      <td>0.00159919</td>\n",
       "      <td>{'alpha': 0.0001, 'average': False, 'class_wei...</td>\n",
       "    </tr>\n",
       "    <tr>\n",
       "      <th>9</th>\n",
       "      <td>Perceptron</td>\n",
       "      <td>0.608801</td>\n",
       "      <td>0.58806</td>\n",
       "      <td>0.562609</td>\n",
       "      <td>0.00140843</td>\n",
       "      <td>{'alpha': 0.0001, 'class_weight': None, 'early...</td>\n",
       "    </tr>\n",
       "    <tr>\n",
       "      <th>6</th>\n",
       "      <td>PassiveAggressiveClassifier</td>\n",
       "      <td>0.578277</td>\n",
       "      <td>0.576866</td>\n",
       "      <td>0.389809</td>\n",
       "      <td>0.040081</td>\n",
       "      <td>{'C': 1.0, 'average': False, 'class_weight': N...</td>\n",
       "    </tr>\n",
       "    <tr>\n",
       "      <th>19</th>\n",
       "      <td>QuadraticDiscriminantAnalysis</td>\n",
       "      <td>0.48427</td>\n",
       "      <td>0.48806</td>\n",
       "      <td>0.392583</td>\n",
       "      <td>0.00179863</td>\n",
       "      <td>{'priors': None, 'reg_param': 0.0, 'store_cova...</td>\n",
       "    </tr>\n",
       "    <tr>\n",
       "      <th>11</th>\n",
       "      <td>GaussianNB</td>\n",
       "      <td>0.430712</td>\n",
       "      <td>0.398507</td>\n",
       "      <td>0.0471746</td>\n",
       "      <td>0</td>\n",
       "      <td>{'priors': None, 'var_smoothing': 1e-09}</td>\n",
       "    </tr>\n",
       "  </tbody>\n",
       "</table>\n",
       "</div>"
      ],
      "text/plain": [
       "                       Model Name Train Accuracy Mean Test Accuracy Mean  \\\n",
       "3      GradientBoostingClassifier             0.88764           0.807463   \n",
       "0              AdaBoostClassifier              0.8397           0.803358   \n",
       "14                          NuSVC            0.873783           0.800373   \n",
       "4          RandomForestClassifier            0.930337           0.800373   \n",
       "1               BaggingClassifier            0.930337           0.797015   \n",
       "13                            SVC            0.868165           0.795896   \n",
       "10                    BernoulliNB            0.792509           0.795149   \n",
       "7               RidgeClassifierCV            0.801498            0.79291   \n",
       "18     LinearDiscriminantAnalysis            0.801498            0.79291   \n",
       "2            ExtraTreesClassifier            0.930337           0.791418   \n",
       "16         DecisionTreeClassifier            0.930337            0.78694   \n",
       "5            LogisticRegressionCV            0.805618           0.786194   \n",
       "17            ExtraTreeClassifier            0.930337           0.785448   \n",
       "15                      LinearSVC            0.781086            0.78097   \n",
       "12           KNeighborsClassifier            0.846816           0.755224   \n",
       "8                   SGDClassifier            0.639326           0.636194   \n",
       "9                      Perceptron            0.608801            0.58806   \n",
       "6     PassiveAggressiveClassifier            0.578277           0.576866   \n",
       "19  QuadraticDiscriminantAnalysis             0.48427            0.48806   \n",
       "11                     GaussianNB            0.430712           0.398507   \n",
       "\n",
       "   Test Accuracy 3*STD        Time  \\\n",
       "3            0.0586379   0.0539748   \n",
       "0            0.0662342   0.0923625   \n",
       "14           0.0799805   0.0744641   \n",
       "4            0.0625765   0.0818335   \n",
       "1             0.056682   0.0962348   \n",
       "13           0.0744298   0.0640581   \n",
       "10           0.0845798  0.00156233   \n",
       "7            0.0785578  0.00289831   \n",
       "18           0.0785578   0.0025991   \n",
       "2            0.0582627   0.0782195   \n",
       "16           0.0722774  0.00180137   \n",
       "5            0.0770764    0.154694   \n",
       "17           0.0480822  0.00189869   \n",
       "15           0.0917706   0.0277699   \n",
       "12           0.0645382  0.00156233   \n",
       "8             0.433059  0.00159919   \n",
       "9             0.562609  0.00140843   \n",
       "6             0.389809    0.040081   \n",
       "19            0.392583  0.00179863   \n",
       "11           0.0471746           0   \n",
       "\n",
       "                                           Parameters  \n",
       "3   {'criterion': 'friedman_mse', 'init': None, 'l...  \n",
       "0   {'algorithm': 'SAMME.R', 'base_estimator': Non...  \n",
       "14  {'cache_size': 200, 'class_weight': None, 'coe...  \n",
       "4   {'bootstrap': True, 'class_weight': None, 'cri...  \n",
       "1   {'base_estimator': None, 'bootstrap': True, 'b...  \n",
       "13  {'C': 1.0, 'cache_size': 200, 'class_weight': ...  \n",
       "10  {'alpha': 1.0, 'binarize': 0.0, 'class_prior':...  \n",
       "7   {'alphas': array([ 0.1,  1. , 10. ]), 'class_w...  \n",
       "18  {'n_components': None, 'priors': None, 'shrink...  \n",
       "2   {'bootstrap': False, 'class_weight': None, 'cr...  \n",
       "16  {'class_weight': None, 'criterion': 'gini', 'm...  \n",
       "5   {'Cs': 10, 'class_weight': None, 'cv': 'warn',...  \n",
       "17  {'class_weight': None, 'criterion': 'gini', 'm...  \n",
       "15  {'C': 1.0, 'class_weight': None, 'dual': True,...  \n",
       "12  {'algorithm': 'auto', 'leaf_size': 30, 'metric...  \n",
       "8   {'alpha': 0.0001, 'average': False, 'class_wei...  \n",
       "9   {'alpha': 0.0001, 'class_weight': None, 'early...  \n",
       "6   {'C': 1.0, 'average': False, 'class_weight': N...  \n",
       "19  {'priors': None, 'reg_param': 0.0, 'store_cova...  \n",
       "11           {'priors': None, 'var_smoothing': 1e-09}  "
      ]
     },
     "execution_count": 24,
     "metadata": {},
     "output_type": "execute_result"
    }
   ],
   "source": [
    "table_0 = get_model_compare_table(n=10)\n",
    "table_0"
   ]
  },
  {
   "cell_type": "markdown",
   "metadata": {},
   "source": [
    "Максимальную точность на контроле **0.807** показала модель **GradientBoostingClassifier**. Для наглядности визуализируем полученную таблицу."
   ]
  },
  {
   "cell_type": "code",
   "execution_count": 25,
   "metadata": {},
   "outputs": [],
   "source": [
    "def visualize_table(data):\n",
    "    fig = plt.figure(figsize=(10,8))\n",
    "    ax = fig.add_subplot(111)\n",
    "    sns.barplot(x='Test Accuracy Mean', y='Model Name', data=data, palette=\"Blues_d\")\n",
    "    ax.grid(axis='x')\n",
    "    ax.set_title('Точность моделей')\n",
    "    ax.set_ylabel('Model Name')"
   ]
  },
  {
   "cell_type": "code",
   "execution_count": 26,
   "metadata": {},
   "outputs": [
    {
     "data": {
      "image/png": "[encoded data removed]",
      "text/plain": [
       "<Figure size 720x576 with 1 Axes>"
      ]
     },
     "metadata": {
      "needs_background": "light"
     },
     "output_type": "display_data"
    }
   ],
   "source": [
    "visualize_table(table_0)"
   ]
  },
  {
   "cell_type": "markdown",
   "metadata": {},
   "source": [
    "Преждем чем выбрать лучшую модель для дальнейшей оптимизации, обратим внимание на то, что простые метрические алгоритмы NuSVC и SVC показали довольно высокий результат, хотя используемые в обучении признаки не были отмасштабированы. Метод опорных весторов крайне чувствителен к масштабу данных: если используемые в обучении признаки сильно различются по абсолютной величине, предсказательная способность алгоритма значительно снижается. Есть смысл, учесть этот аспект и провести повторную оценку точности дефолтных моделей на отмасштабированных данных."
   ]
  },
  {
   "cell_type": "markdown",
   "metadata": {},
   "source": [
    "**Масштабирование признаков**"
   ]
  },
  {
   "cell_type": "code",
   "execution_count": 27,
   "metadata": {},
   "outputs": [
    {
     "data": {
      "text/plain": [
       "array([-0.5924806 , -0.73769513,  0.82737724, -0.18666335,  0.43279337,\n",
       "       -0.47367361])"
      ]
     },
     "execution_count": 27,
     "metadata": {},
     "output_type": "execute_result"
    }
   ],
   "source": [
    "#масштабирование вещественных признаков\n",
    "X_train = df_train[['Age', 'Sex', 'Pclass', 'Unlucky', 'SibSp', 'Parch']].astype(float)\n",
    "X_train = preprocessing.StandardScaler().fit(X_train).transform(X_train)\n",
    "y_train = df_train['Survived']\n",
    "X_train[0]"
   ]
  },
  {
   "cell_type": "code",
   "execution_count": 28,
   "metadata": {},
   "outputs": [
    {
     "data": {
      "text/html": [
       "<div>\n",
       "<style scoped>\n",
       "    .dataframe tbody tr th:only-of-type {\n",
       "        vertical-align: middle;\n",
       "    }\n",
       "\n",
       "    .dataframe tbody tr th {\n",
       "        vertical-align: top;\n",
       "    }\n",
       "\n",
       "    .dataframe thead th {\n",
       "        text-align: right;\n",
       "    }\n",
       "</style>\n",
       "<table border=\"1\" class=\"dataframe\">\n",
       "  <thead>\n",
       "    <tr style=\"text-align: right;\">\n",
       "      <th></th>\n",
       "      <th>Model Name</th>\n",
       "      <th>Train Accuracy Mean</th>\n",
       "      <th>Test Accuracy Mean</th>\n",
       "      <th>Test Accuracy 3*STD</th>\n",
       "      <th>Time</th>\n",
       "      <th>Parameters</th>\n",
       "    </tr>\n",
       "  </thead>\n",
       "  <tbody>\n",
       "    <tr>\n",
       "      <th>13</th>\n",
       "      <td>SVC</td>\n",
       "      <td>0.832772</td>\n",
       "      <td>0.829851</td>\n",
       "      <td>0.06356</td>\n",
       "      <td>0.0287904</td>\n",
       "      <td>{'C': 1.0, 'cache_size': 200, 'class_weight': ...</td>\n",
       "    </tr>\n",
       "    <tr>\n",
       "      <th>14</th>\n",
       "      <td>NuSVC</td>\n",
       "      <td>0.824345</td>\n",
       "      <td>0.819403</td>\n",
       "      <td>0.0837984</td>\n",
       "      <td>0.0360112</td>\n",
       "      <td>{'cache_size': 200, 'class_weight': None, 'coe...</td>\n",
       "    </tr>\n",
       "    <tr>\n",
       "      <th>3</th>\n",
       "      <td>GradientBoostingClassifier</td>\n",
       "      <td>0.88764</td>\n",
       "      <td>0.807463</td>\n",
       "      <td>0.0579933</td>\n",
       "      <td>0.0490264</td>\n",
       "      <td>{'criterion': 'friedman_mse', 'init': None, 'l...</td>\n",
       "    </tr>\n",
       "    <tr>\n",
       "      <th>0</th>\n",
       "      <td>AdaBoostClassifier</td>\n",
       "      <td>0.8397</td>\n",
       "      <td>0.803731</td>\n",
       "      <td>0.0651181</td>\n",
       "      <td>0.0948244</td>\n",
       "      <td>{'algorithm': 'SAMME.R', 'base_estimator': Non...</td>\n",
       "    </tr>\n",
       "    <tr>\n",
       "      <th>7</th>\n",
       "      <td>RidgeClassifierCV</td>\n",
       "      <td>0.801311</td>\n",
       "      <td>0.795149</td>\n",
       "      <td>0.0854641</td>\n",
       "      <td>0.00169897</td>\n",
       "      <td>{'alphas': array([ 0.1,  1. , 10. ]), 'class_w...</td>\n",
       "    </tr>\n",
       "    <tr>\n",
       "      <th>4</th>\n",
       "      <td>RandomForestClassifier</td>\n",
       "      <td>0.930337</td>\n",
       "      <td>0.793284</td>\n",
       "      <td>0.0664514</td>\n",
       "      <td>0.0805089</td>\n",
       "      <td>{'bootstrap': True, 'class_weight': None, 'cri...</td>\n",
       "    </tr>\n",
       "    <tr>\n",
       "      <th>1</th>\n",
       "      <td>BaggingClassifier</td>\n",
       "      <td>0.930337</td>\n",
       "      <td>0.793284</td>\n",
       "      <td>0.0560149</td>\n",
       "      <td>0.0987566</td>\n",
       "      <td>{'base_estimator': None, 'bootstrap': True, 'b...</td>\n",
       "    </tr>\n",
       "    <tr>\n",
       "      <th>18</th>\n",
       "      <td>LinearDiscriminantAnalysis</td>\n",
       "      <td>0.801498</td>\n",
       "      <td>0.79291</td>\n",
       "      <td>0.0785578</td>\n",
       "      <td>0</td>\n",
       "      <td>{'n_components': None, 'priors': None, 'shrink...</td>\n",
       "    </tr>\n",
       "    <tr>\n",
       "      <th>12</th>\n",
       "      <td>KNeighborsClassifier</td>\n",
       "      <td>0.850375</td>\n",
       "      <td>0.791045</td>\n",
       "      <td>0.0707973</td>\n",
       "      <td>0.000999594</td>\n",
       "      <td>{'algorithm': 'auto', 'leaf_size': 30, 'metric...</td>\n",
       "    </tr>\n",
       "    <tr>\n",
       "      <th>15</th>\n",
       "      <td>LinearSVC</td>\n",
       "      <td>0.80412</td>\n",
       "      <td>0.791045</td>\n",
       "      <td>0.0716768</td>\n",
       "      <td>0.0186095</td>\n",
       "      <td>{'C': 1.0, 'class_weight': None, 'dual': True,...</td>\n",
       "    </tr>\n",
       "    <tr>\n",
       "      <th>2</th>\n",
       "      <td>ExtraTreesClassifier</td>\n",
       "      <td>0.930337</td>\n",
       "      <td>0.789925</td>\n",
       "      <td>0.0588193</td>\n",
       "      <td>0.0804521</td>\n",
       "      <td>{'bootstrap': False, 'class_weight': None, 'cr...</td>\n",
       "    </tr>\n",
       "    <tr>\n",
       "      <th>5</th>\n",
       "      <td>LogisticRegressionCV</td>\n",
       "      <td>0.805431</td>\n",
       "      <td>0.789925</td>\n",
       "      <td>0.0708061</td>\n",
       "      <td>0.0528412</td>\n",
       "      <td>{'Cs': 10, 'class_weight': None, 'cv': 'warn',...</td>\n",
       "    </tr>\n",
       "    <tr>\n",
       "      <th>10</th>\n",
       "      <td>BernoulliNB</td>\n",
       "      <td>0.78633</td>\n",
       "      <td>0.788433</td>\n",
       "      <td>0.0978502</td>\n",
       "      <td>0.000899482</td>\n",
       "      <td>{'alpha': 1.0, 'binarize': 0.0, 'class_prior':...</td>\n",
       "    </tr>\n",
       "    <tr>\n",
       "      <th>16</th>\n",
       "      <td>DecisionTreeClassifier</td>\n",
       "      <td>0.930337</td>\n",
       "      <td>0.787687</td>\n",
       "      <td>0.0584774</td>\n",
       "      <td>0.0015624</td>\n",
       "      <td>{'class_weight': None, 'criterion': 'gini', 'm...</td>\n",
       "    </tr>\n",
       "    <tr>\n",
       "      <th>17</th>\n",
       "      <td>ExtraTreeClassifier</td>\n",
       "      <td>0.930337</td>\n",
       "      <td>0.772388</td>\n",
       "      <td>0.0625264</td>\n",
       "      <td>0</td>\n",
       "      <td>{'class_weight': None, 'criterion': 'gini', 'm...</td>\n",
       "    </tr>\n",
       "    <tr>\n",
       "      <th>6</th>\n",
       "      <td>PassiveAggressiveClassifier</td>\n",
       "      <td>0.737266</td>\n",
       "      <td>0.749254</td>\n",
       "      <td>0.16617</td>\n",
       "      <td>0.0384479</td>\n",
       "      <td>{'C': 1.0, 'average': False, 'class_weight': N...</td>\n",
       "    </tr>\n",
       "    <tr>\n",
       "      <th>9</th>\n",
       "      <td>Perceptron</td>\n",
       "      <td>0.733895</td>\n",
       "      <td>0.746269</td>\n",
       "      <td>0.176922</td>\n",
       "      <td>0.000899625</td>\n",
       "      <td>{'alpha': 0.0001, 'class_weight': None, 'early...</td>\n",
       "    </tr>\n",
       "    <tr>\n",
       "      <th>8</th>\n",
       "      <td>SGDClassifier</td>\n",
       "      <td>0.731273</td>\n",
       "      <td>0.724627</td>\n",
       "      <td>0.193809</td>\n",
       "      <td>0.000799632</td>\n",
       "      <td>{'alpha': 0.0001, 'average': False, 'class_wei...</td>\n",
       "    </tr>\n",
       "    <tr>\n",
       "      <th>19</th>\n",
       "      <td>QuadraticDiscriminantAnalysis</td>\n",
       "      <td>0.485393</td>\n",
       "      <td>0.460448</td>\n",
       "      <td>0.387132</td>\n",
       "      <td>0</td>\n",
       "      <td>{'priors': None, 'reg_param': 0.0, 'store_cova...</td>\n",
       "    </tr>\n",
       "    <tr>\n",
       "      <th>11</th>\n",
       "      <td>GaussianNB</td>\n",
       "      <td>0.427903</td>\n",
       "      <td>0.396642</td>\n",
       "      <td>0.0490626</td>\n",
       "      <td>0.000898981</td>\n",
       "      <td>{'priors': None, 'var_smoothing': 1e-09}</td>\n",
       "    </tr>\n",
       "  </tbody>\n",
       "</table>\n",
       "</div>"
      ],
      "text/plain": [
       "                       Model Name Train Accuracy Mean Test Accuracy Mean  \\\n",
       "13                            SVC            0.832772           0.829851   \n",
       "14                          NuSVC            0.824345           0.819403   \n",
       "3      GradientBoostingClassifier             0.88764           0.807463   \n",
       "0              AdaBoostClassifier              0.8397           0.803731   \n",
       "7               RidgeClassifierCV            0.801311           0.795149   \n",
       "4          RandomForestClassifier            0.930337           0.793284   \n",
       "1               BaggingClassifier            0.930337           0.793284   \n",
       "18     LinearDiscriminantAnalysis            0.801498            0.79291   \n",
       "12           KNeighborsClassifier            0.850375           0.791045   \n",
       "15                      LinearSVC             0.80412           0.791045   \n",
       "2            ExtraTreesClassifier            0.930337           0.789925   \n",
       "5            LogisticRegressionCV            0.805431           0.789925   \n",
       "10                    BernoulliNB             0.78633           0.788433   \n",
       "16         DecisionTreeClassifier            0.930337           0.787687   \n",
       "17            ExtraTreeClassifier            0.930337           0.772388   \n",
       "6     PassiveAggressiveClassifier            0.737266           0.749254   \n",
       "9                      Perceptron            0.733895           0.746269   \n",
       "8                   SGDClassifier            0.731273           0.724627   \n",
       "19  QuadraticDiscriminantAnalysis            0.485393           0.460448   \n",
       "11                     GaussianNB            0.427903           0.396642   \n",
       "\n",
       "   Test Accuracy 3*STD         Time  \\\n",
       "13             0.06356    0.0287904   \n",
       "14           0.0837984    0.0360112   \n",
       "3            0.0579933    0.0490264   \n",
       "0            0.0651181    0.0948244   \n",
       "7            0.0854641   0.00169897   \n",
       "4            0.0664514    0.0805089   \n",
       "1            0.0560149    0.0987566   \n",
       "18           0.0785578            0   \n",
       "12           0.0707973  0.000999594   \n",
       "15           0.0716768    0.0186095   \n",
       "2            0.0588193    0.0804521   \n",
       "5            0.0708061    0.0528412   \n",
       "10           0.0978502  0.000899482   \n",
       "16           0.0584774    0.0015624   \n",
       "17           0.0625264            0   \n",
       "6              0.16617    0.0384479   \n",
       "9             0.176922  0.000899625   \n",
       "8             0.193809  0.000799632   \n",
       "19            0.387132            0   \n",
       "11           0.0490626  0.000898981   \n",
       "\n",
       "                                           Parameters  \n",
       "13  {'C': 1.0, 'cache_size': 200, 'class_weight': ...  \n",
       "14  {'cache_size': 200, 'class_weight': None, 'coe...  \n",
       "3   {'criterion': 'friedman_mse', 'init': None, 'l...  \n",
       "0   {'algorithm': 'SAMME.R', 'base_estimator': Non...  \n",
       "7   {'alphas': array([ 0.1,  1. , 10. ]), 'class_w...  \n",
       "4   {'bootstrap': True, 'class_weight': None, 'cri...  \n",
       "1   {'base_estimator': None, 'bootstrap': True, 'b...  \n",
       "18  {'n_components': None, 'priors': None, 'shrink...  \n",
       "12  {'algorithm': 'auto', 'leaf_size': 30, 'metric...  \n",
       "15  {'C': 1.0, 'class_weight': None, 'dual': True,...  \n",
       "2   {'bootstrap': False, 'class_weight': None, 'cr...  \n",
       "5   {'Cs': 10, 'class_weight': None, 'cv': 'warn',...  \n",
       "10  {'alpha': 1.0, 'binarize': 0.0, 'class_prior':...  \n",
       "16  {'class_weight': None, 'criterion': 'gini', 'm...  \n",
       "17  {'class_weight': None, 'criterion': 'gini', 'm...  \n",
       "6   {'C': 1.0, 'average': False, 'class_weight': N...  \n",
       "9   {'alpha': 0.0001, 'class_weight': None, 'early...  \n",
       "8   {'alpha': 0.0001, 'average': False, 'class_wei...  \n",
       "19  {'priors': None, 'reg_param': 0.0, 'store_cova...  \n",
       "11           {'priors': None, 'var_smoothing': 1e-09}  "
      ]
     },
     "execution_count": 28,
     "metadata": {},
     "output_type": "execute_result"
    }
   ],
   "source": [
    "table_1 = get_model_compare_table(n=10)\n",
    "table_1"
   ]
  },
  {
   "cell_type": "markdown",
   "metadata": {},
   "source": [
    "Максимальную точность на контроле **0.829851** показала модель **SVC**, что на 0.02 больше, чем у предыдущего лидера GradientBoostingClassifier. Визуализируем полученную таблицу."
   ]
  },
  {
   "cell_type": "code",
   "execution_count": 29,
   "metadata": {},
   "outputs": [
    {
     "data": {
      "image/png": "[encoded data removed]",
      "text/plain": [
       "<Figure size 720x576 with 1 Axes>"
      ]
     },
     "metadata": {
      "needs_background": "light"
     },
     "output_type": "display_data"
    }
   ],
   "source": [
    "visualize_table(table_1)"
   ]
  },
  {
   "cell_type": "markdown",
   "metadata": {},
   "source": [
    "Как мы и предполагали, в лидерах оказалась модель **SVC** с результатом на контроле **0.829851**. Для дальнейшей оптимизации выбираем ее."
   ]
  },
  {
   "cell_type": "markdown",
   "metadata": {},
   "source": [
    "### Support Vector Classification"
   ]
  },
  {
   "cell_type": "markdown",
   "metadata": {},
   "source": [
    "Проведем полный перебор параметров модели по сетке с помощью стандартной процедуры GridSearchCV.  \n",
    "Для этого сначала создадим словарь параметров для перебора."
   ]
  },
  {
   "cell_type": "code",
   "execution_count": 30,
   "metadata": {},
   "outputs": [],
   "source": [
    "parameter_grid = {\n",
    "    'C': [0.001, 0.1, 1, 10, 100, 1000],\n",
    "    'gamma': ['auto', 'scale'],\n",
    "    'kernel': ['poly', 'linear', 'rbf', 'sigmoid'], \n",
    "    'degree': [2, 3],\n",
    "}"
   ]
  },
  {
   "cell_type": "markdown",
   "metadata": {},
   "source": [
    "Создадим объект GridSearchCV."
   ]
  },
  {
   "cell_type": "code",
   "execution_count": 31,
   "metadata": {},
   "outputs": [],
   "source": [
    "grid_svc = model_selection.GridSearchCV(svm.SVC(), parameter_grid, \n",
    "                                        scoring='accuracy', cv=3, return_train_score=True)"
   ]
  },
  {
   "cell_type": "markdown",
   "metadata": {},
   "source": [
    "Произведем обучение модели. _Warning! Процесс занимает порядка 10 минут._"
   ]
  },
  {
   "cell_type": "code",
   "execution_count": 32,
   "metadata": {},
   "outputs": [
    {
     "name": "stdout",
     "output_type": "stream",
     "text": [
      "Wall time: 12min 15s\n"
     ]
    },
    {
     "data": {
      "text/plain": [
       "GridSearchCV(cv=3, error_score='raise-deprecating',\n",
       "       estimator=SVC(C=1.0, cache_size=200, class_weight=None, coef0=0.0,\n",
       "  decision_function_shape='ovr', degree=3, gamma='auto_deprecated',\n",
       "  kernel='rbf', max_iter=-1, probability=False, random_state=None,\n",
       "  shrinking=True, tol=0.001, verbose=False),\n",
       "       fit_params=None, iid='warn', n_jobs=None,\n",
       "       param_grid={'C': [0.001, 0.1, 1, 10, 100, 1000], 'gamma': ['auto', 'scale'], 'kernel': ['poly', 'linear', 'rbf', 'sigmoid'], 'degree': [2, 3]},\n",
       "       pre_dispatch='2*n_jobs', refit=True, return_train_score=True,\n",
       "       scoring='accuracy', verbose=0)"
      ]
     },
     "execution_count": 32,
     "metadata": {},
     "output_type": "execute_result"
    }
   ],
   "source": [
    "%%time\n",
    "grid_svc.fit(X_train, y_train)"
   ]
  },
  {
   "cell_type": "markdown",
   "metadata": {},
   "source": [
    "Помотрим на параметры лучшей модели."
   ]
  },
  {
   "cell_type": "code",
   "execution_count": 33,
   "metadata": {},
   "outputs": [
    {
     "name": "stdout",
     "output_type": "stream",
     "text": [
      "0.8271604938271605\n",
      "{'C': 1, 'degree': 2, 'gamma': 'auto', 'kernel': 'rbf'}\n"
     ]
    }
   ],
   "source": [
    "print(grid_svc.best_score_) #оценка accuracy\n",
    "print(grid_svc.best_params_) #словарь параметров"
   ]
  },
  {
   "cell_type": "markdown",
   "metadata": {},
   "source": [
    "Можем ли мы ускорить процесс обучения сетки? Воспользуемся процедурой _RandomizedSearchCV_, которая не проверяет все возможные сочетания, а только выборочные. Воспользуемся словарем параметров, созданным ранее. "
   ]
  },
  {
   "cell_type": "markdown",
   "metadata": {},
   "source": [
    "Создадим объект GridSearchCV."
   ]
  },
  {
   "cell_type": "code",
   "execution_count": 34,
   "metadata": {},
   "outputs": [],
   "source": [
    "grid_svc_random = model_selection.RandomizedSearchCV(svm.SVC(), parameter_grid, \n",
    "                                                     scoring='accuracy', cv=3, n_iter=20, \n",
    "                                                     random_state=0, return_train_score=True)"
   ]
  },
  {
   "cell_type": "markdown",
   "metadata": {},
   "source": [
    "Произведем обучение модели. _Warning! Процесс занимает порядка 3 минут._"
   ]
  },
  {
   "cell_type": "code",
   "execution_count": 35,
   "metadata": {},
   "outputs": [
    {
     "name": "stdout",
     "output_type": "stream",
     "text": [
      "Wall time: 3min 15s\n"
     ]
    },
    {
     "data": {
      "text/plain": [
       "RandomizedSearchCV(cv=3, error_score='raise-deprecating',\n",
       "          estimator=SVC(C=1.0, cache_size=200, class_weight=None, coef0=0.0,\n",
       "  decision_function_shape='ovr', degree=3, gamma='auto_deprecated',\n",
       "  kernel='rbf', max_iter=-1, probability=False, random_state=None,\n",
       "  shrinking=True, tol=0.001, verbose=False),\n",
       "          fit_params=None, iid='warn', n_iter=20, n_jobs=None,\n",
       "          param_distributions={'C': [0.001, 0.1, 1, 10, 100, 1000], 'gamma': ['auto', 'scale'], 'kernel': ['poly', 'linear', 'rbf', 'sigmoid'], 'degree': [2, 3]},\n",
       "          pre_dispatch='2*n_jobs', random_state=0, refit=True,\n",
       "          return_train_score=True, scoring='accuracy', verbose=0)"
      ]
     },
     "execution_count": 35,
     "metadata": {},
     "output_type": "execute_result"
    }
   ],
   "source": [
    "%%time\n",
    "grid_svc_random.fit(X_train, y_train)"
   ]
  },
  {
   "cell_type": "markdown",
   "metadata": {},
   "source": [
    "Параметры лучшей модели."
   ]
  },
  {
   "cell_type": "code",
   "execution_count": 36,
   "metadata": {},
   "outputs": [
    {
     "name": "stdout",
     "output_type": "stream",
     "text": [
      "0.819304152637486\n",
      "{'kernel': 'rbf', 'gamma': 'scale', 'degree': 2, 'C': 10}\n"
     ]
    }
   ],
   "source": [
    "print(grid_svc_random.best_score_) #оценка accuracy для лучшей модели\n",
    "print(grid_svc_random.best_params_) #словарь параметров этой модели"
   ]
  },
  {
   "cell_type": "markdown",
   "metadata": {},
   "source": [
    "Точность второй модели получилась чуть хуже, параметры моделей не совпадают. Воспользуемся обеими моделями и проверим их точность на тестовой выборке."
   ]
  },
  {
   "cell_type": "markdown",
   "metadata": {},
   "source": [
    "## Подготовка отчетов для сабмита"
   ]
  },
  {
   "cell_type": "markdown",
   "metadata": {},
   "source": [
    "Стандартная предобработка тестового датасета."
   ]
  },
  {
   "cell_type": "code",
   "execution_count": 37,
   "metadata": {},
   "outputs": [
    {
     "data": {
      "text/html": [
       "<div>\n",
       "<style scoped>\n",
       "    .dataframe tbody tr th:only-of-type {\n",
       "        vertical-align: middle;\n",
       "    }\n",
       "\n",
       "    .dataframe tbody tr th {\n",
       "        vertical-align: top;\n",
       "    }\n",
       "\n",
       "    .dataframe thead th {\n",
       "        text-align: right;\n",
       "    }\n",
       "</style>\n",
       "<table border=\"1\" class=\"dataframe\">\n",
       "  <thead>\n",
       "    <tr style=\"text-align: right;\">\n",
       "      <th></th>\n",
       "      <th>PassengerId</th>\n",
       "      <th>Pclass</th>\n",
       "      <th>Sex</th>\n",
       "      <th>Age</th>\n",
       "      <th>SibSp</th>\n",
       "      <th>Parch</th>\n",
       "      <th>Family</th>\n",
       "    </tr>\n",
       "  </thead>\n",
       "  <tbody>\n",
       "    <tr>\n",
       "      <th>0</th>\n",
       "      <td>892</td>\n",
       "      <td>3</td>\n",
       "      <td>0.0</td>\n",
       "      <td>34.5</td>\n",
       "      <td>0</td>\n",
       "      <td>0</td>\n",
       "      <td>0</td>\n",
       "    </tr>\n",
       "    <tr>\n",
       "      <th>1</th>\n",
       "      <td>893</td>\n",
       "      <td>3</td>\n",
       "      <td>1.0</td>\n",
       "      <td>47.0</td>\n",
       "      <td>1</td>\n",
       "      <td>0</td>\n",
       "      <td>1</td>\n",
       "    </tr>\n",
       "    <tr>\n",
       "      <th>2</th>\n",
       "      <td>894</td>\n",
       "      <td>2</td>\n",
       "      <td>0.0</td>\n",
       "      <td>62.0</td>\n",
       "      <td>0</td>\n",
       "      <td>0</td>\n",
       "      <td>0</td>\n",
       "    </tr>\n",
       "    <tr>\n",
       "      <th>3</th>\n",
       "      <td>895</td>\n",
       "      <td>3</td>\n",
       "      <td>0.0</td>\n",
       "      <td>27.0</td>\n",
       "      <td>0</td>\n",
       "      <td>0</td>\n",
       "      <td>0</td>\n",
       "    </tr>\n",
       "    <tr>\n",
       "      <th>4</th>\n",
       "      <td>896</td>\n",
       "      <td>3</td>\n",
       "      <td>1.0</td>\n",
       "      <td>22.0</td>\n",
       "      <td>1</td>\n",
       "      <td>1</td>\n",
       "      <td>2</td>\n",
       "    </tr>\n",
       "  </tbody>\n",
       "</table>\n",
       "</div>"
      ],
      "text/plain": [
       "   PassengerId  Pclass  Sex   Age  SibSp  Parch  Family\n",
       "0          892       3  0.0  34.5      0      0       0\n",
       "1          893       3  1.0  47.0      1      0       1\n",
       "2          894       2  0.0  62.0      0      0       0\n",
       "3          895       3  0.0  27.0      0      0       0\n",
       "4          896       3  1.0  22.0      1      1       2"
      ]
     },
     "execution_count": 37,
     "metadata": {},
     "output_type": "execute_result"
    }
   ],
   "source": [
    "df_test = preprocessing_data('test.csv')\n",
    "df_test.head()"
   ]
  },
  {
   "cell_type": "markdown",
   "metadata": {},
   "source": [
    "Добавление признака \"Unlucky\"."
   ]
  },
  {
   "cell_type": "code",
   "execution_count": 38,
   "metadata": {},
   "outputs": [],
   "source": [
    "df_test['Unlucky'] = 0\n",
    "df_test['Unlucky'][(df_test['Family']==7) | (df_test['Family']==10)] = 1\n",
    "df_test['Unlucky'][(df_test['Sex']==0) & ((df_test['Family']==4)|(df_test['Family']==5))] = 1"
   ]
  },
  {
   "cell_type": "markdown",
   "metadata": {},
   "source": [
    "Масштабирование признаков."
   ]
  },
  {
   "cell_type": "code",
   "execution_count": 39,
   "metadata": {},
   "outputs": [
    {
     "data": {
      "text/plain": [
       "array([ 0.3349926 , -0.75592895,  0.87348191, -0.17192048, -0.49947002,\n",
       "       -0.4002477 ])"
      ]
     },
     "execution_count": 39,
     "metadata": {},
     "output_type": "execute_result"
    }
   ],
   "source": [
    "X_test = df_test[['Age', 'Sex', 'Pclass', 'Unlucky', 'SibSp', 'Parch']].astype(float)\n",
    "X_test = preprocessing.StandardScaler().fit(X_test).transform(X_test)\n",
    "X_test[0]"
   ]
  },
  {
   "cell_type": "markdown",
   "metadata": {},
   "source": [
    "**Генерация предсказаний модели, полученной полным перебором параметров.**"
   ]
  },
  {
   "cell_type": "code",
   "execution_count": 40,
   "metadata": {},
   "outputs": [],
   "source": [
    "y_hat = grid_svc.predict(X_test)"
   ]
  },
  {
   "cell_type": "markdown",
   "metadata": {},
   "source": [
    "Форматирование и сохранение датасета."
   ]
  },
  {
   "cell_type": "code",
   "execution_count": 41,
   "metadata": {},
   "outputs": [
    {
     "data": {
      "text/html": [
       "<div>\n",
       "<style scoped>\n",
       "    .dataframe tbody tr th:only-of-type {\n",
       "        vertical-align: middle;\n",
       "    }\n",
       "\n",
       "    .dataframe tbody tr th {\n",
       "        vertical-align: top;\n",
       "    }\n",
       "\n",
       "    .dataframe thead th {\n",
       "        text-align: right;\n",
       "    }\n",
       "</style>\n",
       "<table border=\"1\" class=\"dataframe\">\n",
       "  <thead>\n",
       "    <tr style=\"text-align: right;\">\n",
       "      <th></th>\n",
       "      <th>Survived</th>\n",
       "    </tr>\n",
       "    <tr>\n",
       "      <th>PassengerId</th>\n",
       "      <th></th>\n",
       "    </tr>\n",
       "  </thead>\n",
       "  <tbody>\n",
       "    <tr>\n",
       "      <th>892</th>\n",
       "      <td>0</td>\n",
       "    </tr>\n",
       "    <tr>\n",
       "      <th>893</th>\n",
       "      <td>1</td>\n",
       "    </tr>\n",
       "    <tr>\n",
       "      <th>894</th>\n",
       "      <td>0</td>\n",
       "    </tr>\n",
       "    <tr>\n",
       "      <th>895</th>\n",
       "      <td>0</td>\n",
       "    </tr>\n",
       "    <tr>\n",
       "      <th>896</th>\n",
       "      <td>1</td>\n",
       "    </tr>\n",
       "  </tbody>\n",
       "</table>\n",
       "</div>"
      ],
      "text/plain": [
       "             Survived\n",
       "PassengerId          \n",
       "892                 0\n",
       "893                 1\n",
       "894                 0\n",
       "895                 0\n",
       "896                 1"
      ]
     },
     "execution_count": 41,
     "metadata": {},
     "output_type": "execute_result"
    }
   ],
   "source": [
    "report_df = pd.DataFrame(y_hat).join(df_test['PassengerId'])\n",
    "report_df.set_index('PassengerId', inplace=True)\n",
    "report_df.rename(columns={0 : 'Survived'}, inplace=True)\n",
    "report_df.head()"
   ]
  },
  {
   "cell_type": "code",
   "execution_count": 42,
   "metadata": {},
   "outputs": [],
   "source": [
    "report_df.to_csv('report15.csv')"
   ]
  },
  {
   "cell_type": "markdown",
   "metadata": {},
   "source": [
    "<span style=\"color:red\">**17.04.2019 - Public Score 0.79425**</span>"
   ]
  },
  {
   "cell_type": "markdown",
   "metadata": {},
   "source": [
    "**Генерация предсказаний модели, полученной случайным неполным перебором параметров.**"
   ]
  },
  {
   "cell_type": "code",
   "execution_count": 43,
   "metadata": {},
   "outputs": [],
   "source": [
    "y_hat = grid_svc_random.predict(X_test)"
   ]
  },
  {
   "cell_type": "markdown",
   "metadata": {},
   "source": [
    "Форматирование и сохранение датасета."
   ]
  },
  {
   "cell_type": "code",
   "execution_count": 44,
   "metadata": {},
   "outputs": [
    {
     "data": {
      "text/html": [
       "<div>\n",
       "<style scoped>\n",
       "    .dataframe tbody tr th:only-of-type {\n",
       "        vertical-align: middle;\n",
       "    }\n",
       "\n",
       "    .dataframe tbody tr th {\n",
       "        vertical-align: top;\n",
       "    }\n",
       "\n",
       "    .dataframe thead th {\n",
       "        text-align: right;\n",
       "    }\n",
       "</style>\n",
       "<table border=\"1\" class=\"dataframe\">\n",
       "  <thead>\n",
       "    <tr style=\"text-align: right;\">\n",
       "      <th></th>\n",
       "      <th>Survived</th>\n",
       "    </tr>\n",
       "    <tr>\n",
       "      <th>PassengerId</th>\n",
       "      <th></th>\n",
       "    </tr>\n",
       "  </thead>\n",
       "  <tbody>\n",
       "    <tr>\n",
       "      <th>892</th>\n",
       "      <td>0</td>\n",
       "    </tr>\n",
       "    <tr>\n",
       "      <th>893</th>\n",
       "      <td>1</td>\n",
       "    </tr>\n",
       "    <tr>\n",
       "      <th>894</th>\n",
       "      <td>0</td>\n",
       "    </tr>\n",
       "    <tr>\n",
       "      <th>895</th>\n",
       "      <td>0</td>\n",
       "    </tr>\n",
       "    <tr>\n",
       "      <th>896</th>\n",
       "      <td>0</td>\n",
       "    </tr>\n",
       "  </tbody>\n",
       "</table>\n",
       "</div>"
      ],
      "text/plain": [
       "             Survived\n",
       "PassengerId          \n",
       "892                 0\n",
       "893                 1\n",
       "894                 0\n",
       "895                 0\n",
       "896                 0"
      ]
     },
     "execution_count": 44,
     "metadata": {},
     "output_type": "execute_result"
    }
   ],
   "source": [
    "report_df = pd.DataFrame(y_hat).join(df_test['PassengerId'])\n",
    "report_df.set_index('PassengerId', inplace=True)\n",
    "report_df.rename(columns={0 : 'Survived'}, inplace=True)\n",
    "report_df.to_csv('report16.csv')\n",
    "report_df.head()"
   ]
  },
  {
   "cell_type": "markdown",
   "metadata": {},
   "source": [
    "<span style=\"color:red\">**17.04.2019 - Public Score 0.76555**</span>"
   ]
  },
  {
   "cell_type": "code",
   "execution_count": null,
   "metadata": {},
   "outputs": [],
   "source": []
  }
 ],
 "metadata": {
  "kernelspec": {
   "display_name": "Python 3",
   "language": "python",
   "name": "python3"
  },
  "language_info": {
   "codemirror_mode": {
    "name": "ipython",
    "version": 3
   },
   "file_extension": ".py",
   "mimetype": "text/x-python",
   "name": "python",
   "nbconvert_exporter": "python",
   "pygments_lexer": "ipython3",
   "version": "3.6.5"
  }
 },
 "nbformat": 4,
 "nbformat_minor": 2
}
